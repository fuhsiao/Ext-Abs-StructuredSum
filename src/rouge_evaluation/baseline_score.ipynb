{
 "cells": [
  {
   "cell_type": "code",
   "execution_count": 1,
   "id": "c9613036-bf75-4a14-b321-073d2ad5c7d7",
   "metadata": {},
   "outputs": [],
   "source": [
    "import pandas as pd\n",
    "import evaluate\n",
    "from eval_utils import read_pmcids, sent_json, convert_sentence_obj, convert_lead_sentence_obj\n",
    "import warnings\n",
    "warnings.simplefilter(\"ignore\", FutureWarning)\n",
    "warnings.simplefilter(\"ignore\", UserWarning)"
   ]
  },
  {
   "cell_type": "code",
   "execution_count": 2,
   "id": "0aa23bb3-a9aa-4396-ad71-015f76f5f273",
   "metadata": {},
   "outputs": [],
   "source": [
    "IDS_PATH = '../../dataset/pmcids/test.txt'\n",
    "JSON_DIR = '../../dataset/sentence_json/'"
   ]
  },
  {
   "cell_type": "code",
   "execution_count": 3,
   "id": "f8c2efbd-a1ef-4a6c-b20e-0779035c7586",
   "metadata": {},
   "outputs": [],
   "source": [
    "# 標籤摘要,參考摘要\n",
    "def process_article(pmcid, json_path=JSON_DIR):\n",
    "    sentJson = sent_json(f'{json_path}/{pmcid}.json')\n",
    "    reference = convert_sentence_obj(sentJson['abstract'])\n",
    "    if baseline == 'oracle':\n",
    "        hypothesis = convert_sentence_obj(sentJson['body'], label=True)\n",
    "    elif baseline == 'lead3':\n",
    "        hypothesis = convert_lead_sentence_obj(sentJson['body'])\n",
    "    return hypothesis, reference\n",
    "\n",
    "\n",
    "# 平均摘要分數\n",
    "def main(pmcid_file = IDS_PATH):  \n",
    "    rouge = evaluate.load('rouge')\n",
    "    pmcids = read_pmcids(pmcid_file)\n",
    "    lst = ['ALL', 'I', 'M', 'R', 'D']\n",
    "    hyp = {key: [] for key in lst}\n",
    "    ref = {key: [] for key in lst}\n",
    "\n",
    "    for pmcid in pmcids:\n",
    "        hypothesis, reference = process_article(pmcid)\n",
    "        for section in lst:\n",
    "            section_filter = 'IMRD' if section == 'ALL' else section\n",
    "            hyp_txt = '\\n'.join([i['text'] for i in hypothesis if i['section'] in section_filter])\n",
    "            ref_txt = '\\n'.join([i['text'] for i in reference if i['section'] in section_filter])\n",
    "            hyp[section].append(hyp_txt)\n",
    "            ref[section].append(ref_txt)\n",
    "            \n",
    "    res = {key: rouge.compute(predictions=hyp[key], references=ref[key], use_stemmer=True, use_aggregator=True) for key in lst}\n",
    "    return pd.DataFrame(res).round(4)"
   ]
  },
  {
   "cell_type": "markdown",
   "id": "243cfb44-a265-4e96-849b-df59192b0cf6",
   "metadata": {},
   "source": [
    "### Oracle "
   ]
  },
  {
   "cell_type": "code",
   "execution_count": 4,
   "id": "ee452689-d6d6-47ac-901c-0584f0f6fdd2",
   "metadata": {},
   "outputs": [
    {
     "name": "stdout",
     "output_type": "stream",
     "text": [
      "CPU times: user 6min 1s, sys: 171 ms, total: 6min 2s\n",
      "Wall time: 6min 3s\n"
     ]
    },
    {
     "data": {
      "text/html": [
       "<div>\n",
       "<style scoped>\n",
       "    .dataframe tbody tr th:only-of-type {\n",
       "        vertical-align: middle;\n",
       "    }\n",
       "\n",
       "    .dataframe tbody tr th {\n",
       "        vertical-align: top;\n",
       "    }\n",
       "\n",
       "    .dataframe thead th {\n",
       "        text-align: right;\n",
       "    }\n",
       "</style>\n",
       "<table border=\"1\" class=\"dataframe\">\n",
       "  <thead>\n",
       "    <tr style=\"text-align: right;\">\n",
       "      <th></th>\n",
       "      <th>ALL</th>\n",
       "      <th>I</th>\n",
       "      <th>M</th>\n",
       "      <th>R</th>\n",
       "      <th>D</th>\n",
       "    </tr>\n",
       "  </thead>\n",
       "  <tbody>\n",
       "    <tr>\n",
       "      <th>rouge1</th>\n",
       "      <td>0.6646</td>\n",
       "      <td>0.5715</td>\n",
       "      <td>0.5424</td>\n",
       "      <td>0.6043</td>\n",
       "      <td>0.6097</td>\n",
       "    </tr>\n",
       "    <tr>\n",
       "      <th>rouge2</th>\n",
       "      <td>0.3854</td>\n",
       "      <td>0.3380</td>\n",
       "      <td>0.2963</td>\n",
       "      <td>0.3632</td>\n",
       "      <td>0.4070</td>\n",
       "    </tr>\n",
       "    <tr>\n",
       "      <th>rougeL</th>\n",
       "      <td>0.4316</td>\n",
       "      <td>0.4298</td>\n",
       "      <td>0.3792</td>\n",
       "      <td>0.4228</td>\n",
       "      <td>0.4859</td>\n",
       "    </tr>\n",
       "    <tr>\n",
       "      <th>rougeLsum</th>\n",
       "      <td>0.6301</td>\n",
       "      <td>0.5135</td>\n",
       "      <td>0.4819</td>\n",
       "      <td>0.5485</td>\n",
       "      <td>0.5519</td>\n",
       "    </tr>\n",
       "  </tbody>\n",
       "</table>\n",
       "</div>"
      ],
      "text/plain": [
       "              ALL       I       M       R       D\n",
       "rouge1     0.6646  0.5715  0.5424  0.6043  0.6097\n",
       "rouge2     0.3854  0.3380  0.2963  0.3632  0.4070\n",
       "rougeL     0.4316  0.4298  0.3792  0.4228  0.4859\n",
       "rougeLsum  0.6301  0.5135  0.4819  0.5485  0.5519"
      ]
     },
     "execution_count": 4,
     "metadata": {},
     "output_type": "execute_result"
    }
   ],
   "source": [
    "%%time\n",
    "baseline = 'oracle'\n",
    "main()"
   ]
  },
  {
   "cell_type": "markdown",
   "id": "688ad74a-56f4-428c-8ed4-edaf3d5903aa",
   "metadata": {},
   "source": [
    "### LEAD-3"
   ]
  },
  {
   "cell_type": "code",
   "execution_count": 5,
   "id": "5ddb85af-0bcb-4029-b603-8d39e0f136c1",
   "metadata": {},
   "outputs": [
    {
     "name": "stdout",
     "output_type": "stream",
     "text": [
      "CPU times: user 5min 23s, sys: 132 ms, total: 5min 23s\n",
      "Wall time: 5min 24s\n"
     ]
    },
    {
     "data": {
      "text/html": [
       "<div>\n",
       "<style scoped>\n",
       "    .dataframe tbody tr th:only-of-type {\n",
       "        vertical-align: middle;\n",
       "    }\n",
       "\n",
       "    .dataframe tbody tr th {\n",
       "        vertical-align: top;\n",
       "    }\n",
       "\n",
       "    .dataframe thead th {\n",
       "        text-align: right;\n",
       "    }\n",
       "</style>\n",
       "<table border=\"1\" class=\"dataframe\">\n",
       "  <thead>\n",
       "    <tr style=\"text-align: right;\">\n",
       "      <th></th>\n",
       "      <th>ALL</th>\n",
       "      <th>I</th>\n",
       "      <th>M</th>\n",
       "      <th>R</th>\n",
       "      <th>D</th>\n",
       "    </tr>\n",
       "  </thead>\n",
       "  <tbody>\n",
       "    <tr>\n",
       "      <th>rouge1</th>\n",
       "      <td>0.4650</td>\n",
       "      <td>0.3116</td>\n",
       "      <td>0.3085</td>\n",
       "      <td>0.2793</td>\n",
       "      <td>0.3214</td>\n",
       "    </tr>\n",
       "    <tr>\n",
       "      <th>rouge2</th>\n",
       "      <td>0.1677</td>\n",
       "      <td>0.0975</td>\n",
       "      <td>0.1054</td>\n",
       "      <td>0.0839</td>\n",
       "      <td>0.1040</td>\n",
       "    </tr>\n",
       "    <tr>\n",
       "      <th>rougeL</th>\n",
       "      <td>0.2237</td>\n",
       "      <td>0.1985</td>\n",
       "      <td>0.2011</td>\n",
       "      <td>0.1745</td>\n",
       "      <td>0.2036</td>\n",
       "    </tr>\n",
       "    <tr>\n",
       "      <th>rougeLsum</th>\n",
       "      <td>0.4347</td>\n",
       "      <td>0.2684</td>\n",
       "      <td>0.2696</td>\n",
       "      <td>0.2467</td>\n",
       "      <td>0.2689</td>\n",
       "    </tr>\n",
       "  </tbody>\n",
       "</table>\n",
       "</div>"
      ],
      "text/plain": [
       "              ALL       I       M       R       D\n",
       "rouge1     0.4650  0.3116  0.3085  0.2793  0.3214\n",
       "rouge2     0.1677  0.0975  0.1054  0.0839  0.1040\n",
       "rougeL     0.2237  0.1985  0.2011  0.1745  0.2036\n",
       "rougeLsum  0.4347  0.2684  0.2696  0.2467  0.2689"
      ]
     },
     "execution_count": 5,
     "metadata": {},
     "output_type": "execute_result"
    }
   ],
   "source": [
    "%%time\n",
    "baseline = 'lead3'\n",
    "main()"
   ]
  }
 ],
 "metadata": {
  "kernelspec": {
   "display_name": "python3_rapids",
   "language": "python",
   "name": "python3_rapids"
  },
  "language_info": {
   "codemirror_mode": {
    "name": "ipython",
    "version": 3
   },
   "file_extension": ".py",
   "mimetype": "text/x-python",
   "name": "python",
   "nbconvert_exporter": "python",
   "pygments_lexer": "ipython3",
   "version": "3.10.9"
  }
 },
 "nbformat": 4,
 "nbformat_minor": 5
}
