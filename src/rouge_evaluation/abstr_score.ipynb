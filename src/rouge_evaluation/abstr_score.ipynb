{
 "cells": [
  {
   "cell_type": "code",
   "execution_count": 1,
   "id": "050a0304-cb06-4206-8761-e3de8cf50a6d",
   "metadata": {},
   "outputs": [],
   "source": [
    "import os\n",
    "import torch\n",
    "import evaluate\n",
    "import numpy as np\n",
    "import pandas as pd\n",
    "from transformers import AutoTokenizer, AutoModelForSeq2SeqLM\n",
    "from eval_utils import read_pmcids, sent_json, load_ExtModel, load_AbstrModel, TrigramBlock, convert_sentence_obj\n",
    "\n",
    "import warnings\n",
    "warnings.simplefilter(\"ignore\", FutureWarning)\n",
    "warnings.simplefilter(\"ignore\", UserWarning)"
   ]
  },
  {
   "cell_type": "code",
   "execution_count": 2,
   "id": "6fbdbbdb-9358-444d-837a-9985bc7ec4c4",
   "metadata": {},
   "outputs": [],
   "source": [
    "IDS_PATH = '../../dataset/pmcids/test.txt'\n",
    "JSON_DIR = '../../dataset/sentence_json/'\n",
    "PARQUET_DIR = '../../dataset/sentence_features/'\n",
    "MODEL = load_ExtModel('../extractive_summarizer/model/LGB_model_F10_S.pkl')\n",
    "BLOCK = ['F8','F9','label']\n",
    "device = torch.device(\"cuda\" if torch.cuda.is_available() else \"cpu\")"
   ]
  },
  {
   "cell_type": "code",
   "execution_count": 3,
   "id": "71c30e34-7ea5-427c-b320-451ace93c400",
   "metadata": {},
   "outputs": [],
   "source": [
    "def convert_sentence_df(sentJson, pred, true_proba):\n",
    "    \n",
    "    # 摘要、正文 轉換為 DataFrame\n",
    "    abstract = pd.DataFrame([(section, sent['text'].strip()) for section in 'IMRD' for sent in sentJson['abstract'][section]],\n",
    "                       columns=['section', 'text']).astype({'section': 'category', 'text': 'string'})\n",
    "    \n",
    "    body = pd.DataFrame([(section, sent['text'].strip(), sent['label']) for section in 'IMRD' for sent in sentJson['body'][section]],\n",
    "                       columns=['section', 'text', 'label']).astype({'section': 'category', 'text': 'string', 'label': 'bool'})\n",
    "\n",
    "    # 加上預測結果和機率\n",
    "    body['predict'] = pred.astype('bool')\n",
    "    body['proba'] = true_proba.astype('float16')\n",
    "\n",
    "    \n",
    "    # 對每章節的提取句子進行 trigram blocking\n",
    "    if set_trigram_blocking:\n",
    "        for section in 'IMRD':\n",
    "            block = TrigramBlock()\n",
    "            temp = body.loc[(body['section'] == section) & (body['predict'] == True)].sort_values(by='proba', ascending=False)\n",
    "            for i, row in temp.iterrows():\n",
    "                if block.check_overlap(row['text']):\n",
    "                    body.at[i, 'predict'] = False \n",
    "                    \n",
    "    return body, abstract"
   ]
  },
  {
   "cell_type": "code",
   "execution_count": 4,
   "id": "60cbab11-69a2-47a0-b8cc-b18be95fb036",
   "metadata": {},
   "outputs": [],
   "source": [
    "def process_article(pmcid, threshold,\n",
    "                    model=MODEL, block_cols=BLOCK, json_dir=JSON_DIR, parquet_dir=PARQUET_DIR):\n",
    "    \n",
    "    # 預測\n",
    "    def predict(x):\n",
    "        true_proba = model.predict_proba(x)[:, 1]\n",
    "        # 如果沒有任何句子的預測機率大於閾值，則選取最大機率的句子為摘要句\n",
    "        if not np.any(true_proba > threshold):\n",
    "            true_proba[true_proba == np.max(true_proba)] = 1\n",
    "        pred = (true_proba > threshold).astype('int')\n",
    "        return pred, true_proba\n",
    "    \n",
    "    # 讀取句子特徵，進行預測\n",
    "    df = pd.read_parquet(f'{parquet_dir}/{pmcid}.parquet')\n",
    "    sentFeat  = df.drop(columns=block_cols)\n",
    "    pred, true_proba = predict(sentFeat)\n",
    "    \n",
    "    # 讀取句子資料，組合對應文本\n",
    "    sentJson = sent_json(f'{json_dir}/{pmcid}.json')\n",
    "    body, abstract = convert_sentence_df(sentJson, pred, true_proba)\n",
    "    ext = body[body['predict'] == True]\n",
    "    \n",
    "    return ext, abstract "
   ]
  },
  {
   "cell_type": "code",
   "execution_count": 5,
   "id": "d2b1cc8c-3f56-4572-b5e2-1be3dbd6f51c",
   "metadata": {},
   "outputs": [],
   "source": [
    "def generate(ext, tokenizer, model):\n",
    "    abstr = {key: '' for key in 'IMRD'}\n",
    "    for section in 'IMRD':\n",
    "        ext_text = ' '.join(list(ext[ext['section']==section]['text']))\n",
    "        model_inputs = tokenizer(ext_text,  truncation=True, return_tensors='pt').input_ids\n",
    "        outputs = model.generate(model_inputs.to(device))\n",
    "        abstr_text = tokenizer.decode(outputs[0], skip_special_tokens=True)\n",
    "        abstr[section] = abstr_text\n",
    "    return abstr"
   ]
  },
  {
   "cell_type": "code",
   "execution_count": 6,
   "id": "a16fc623-3c72-41b0-ae04-33160b9c7b73",
   "metadata": {},
   "outputs": [],
   "source": [
    "def main(tokenizer, model, pmcid_file=IDS_PATH, threshold=0.5):\n",
    "    \n",
    "    rouge = evaluate.load('rouge')\n",
    "    pmcids = read_pmcids(pmcid_file)\n",
    "    lst = ['ALL', 'I', 'M', 'R', 'D']\n",
    "    hyp = {key: [] for key in lst}\n",
    "    ref = {key: [] for key in lst}\n",
    "    \n",
    "    for pmcid in pmcids:\n",
    "        ext, abstract = process_article(pmcid, threshold)\n",
    "        abstr = generate(ext, tokenizer, model)      \n",
    "        for section in lst:\n",
    "            section_filter = 'IMRD' if section == 'ALL' else section\n",
    "            hyp_txt = ' '.join(list(abstr[x] for x in section_filter))\n",
    "            ref_txt = ' '.join(list(abstract['text'])) if section == 'ALL' else ' '.join(list(abstract[abstract['section']==section]['text']))\n",
    "            hyp[section].append(hyp_txt)\n",
    "            ref[section].append(ref_txt)\n",
    "\n",
    "    res = {key: rouge.compute(predictions=hyp[key], references=ref[key], use_stemmer=True, use_aggregator=True) for key in lst}\n",
    "    return pd.DataFrame(res).round(4)"
   ]
  },
  {
   "attachments": {},
   "cell_type": "markdown",
   "id": "764fe23e-f407-4cc6-a0e5-74e053342a6e",
   "metadata": {},
   "source": [
    "## Evaluation Result"
   ]
  },
  {
   "attachments": {},
   "cell_type": "markdown",
   "id": "45237938-27b6-49c0-978e-3c88fcda3882",
   "metadata": {},
   "source": [
    "#### 1. LGBM+BART"
   ]
  },
  {
   "cell_type": "code",
   "execution_count": 7,
   "id": "0f6ff2ef-d233-46a0-9edf-78499b3be6cd",
   "metadata": {},
   "outputs": [],
   "source": [
    "set_trigram_blocking = False"
   ]
  },
  {
   "cell_type": "code",
   "execution_count": 8,
   "id": "76b7f6f2-d0c5-4bf9-8ad7-fe9e5bf471af",
   "metadata": {},
   "outputs": [
    {
     "name": "stdout",
     "output_type": "stream",
     "text": [
      "CPU times: user 3h 20min 25s, sys: 11.2 s, total: 3h 20min 36s\n",
      "Wall time: 3h 6min 32s\n"
     ]
    },
    {
     "data": {
      "text/html": [
       "<div>\n",
       "<style scoped>\n",
       "    .dataframe tbody tr th:only-of-type {\n",
       "        vertical-align: middle;\n",
       "    }\n",
       "\n",
       "    .dataframe tbody tr th {\n",
       "        vertical-align: top;\n",
       "    }\n",
       "\n",
       "    .dataframe thead th {\n",
       "        text-align: right;\n",
       "    }\n",
       "</style>\n",
       "<table border=\"1\" class=\"dataframe\">\n",
       "  <thead>\n",
       "    <tr style=\"text-align: right;\">\n",
       "      <th></th>\n",
       "      <th>ALL</th>\n",
       "      <th>I</th>\n",
       "      <th>M</th>\n",
       "      <th>R</th>\n",
       "      <th>D</th>\n",
       "    </tr>\n",
       "  </thead>\n",
       "  <tbody>\n",
       "    <tr>\n",
       "      <th>rouge1</th>\n",
       "      <td>0.5583</td>\n",
       "      <td>0.4590</td>\n",
       "      <td>0.4079</td>\n",
       "      <td>0.4326</td>\n",
       "      <td>0.4553</td>\n",
       "    </tr>\n",
       "    <tr>\n",
       "      <th>rouge2</th>\n",
       "      <td>0.2538</td>\n",
       "      <td>0.2253</td>\n",
       "      <td>0.1670</td>\n",
       "      <td>0.1860</td>\n",
       "      <td>0.2428</td>\n",
       "    </tr>\n",
       "    <tr>\n",
       "      <th>rougeL</th>\n",
       "      <td>0.3054</td>\n",
       "      <td>0.3176</td>\n",
       "      <td>0.2692</td>\n",
       "      <td>0.2684</td>\n",
       "      <td>0.3391</td>\n",
       "    </tr>\n",
       "    <tr>\n",
       "      <th>rougeLsum</th>\n",
       "      <td>0.3054</td>\n",
       "      <td>0.3176</td>\n",
       "      <td>0.2692</td>\n",
       "      <td>0.2685</td>\n",
       "      <td>0.3391</td>\n",
       "    </tr>\n",
       "  </tbody>\n",
       "</table>\n",
       "</div>"
      ],
      "text/plain": [
       "              ALL       I       M       R       D\n",
       "rouge1     0.5583  0.4590  0.4079  0.4326  0.4553\n",
       "rouge2     0.2538  0.2253  0.1670  0.1860  0.2428\n",
       "rougeL     0.3054  0.3176  0.2692  0.2684  0.3391\n",
       "rougeLsum  0.3054  0.3176  0.2692  0.2685  0.3391"
      ]
     },
     "execution_count": 8,
     "metadata": {},
     "output_type": "execute_result"
    }
   ],
   "source": [
    "%%time\n",
    "model_checkpoint = '../abstractive_summarizer/model/checkpoint_bart/checkpoint-39375' # 7-th checkpoint\n",
    "TOKENIZER = AutoTokenizer.from_pretrained(model_checkpoint)\n",
    "ABSTRMODEL = AutoModelForSeq2SeqLM.from_pretrained(model_checkpoint)\n",
    "ABSTRMODEL = ABSTRMODEL.to(device)\n",
    "main(tokenizer=TOKENIZER, model=ABSTRMODEL)"
   ]
  },
  {
   "attachments": {},
   "cell_type": "markdown",
   "id": "19f3a3b6-cd6b-4478-93c7-0193dfeabb2b",
   "metadata": {},
   "source": [
    "#### 2. LGBM+BioBART"
   ]
  },
  {
   "cell_type": "code",
   "execution_count": null,
   "id": "e1600894-c9f1-443e-8cfe-bb67d50e7bcc",
   "metadata": {},
   "outputs": [],
   "source": [
    "set_trigram_blocking = False"
   ]
  },
  {
   "cell_type": "code",
   "execution_count": 8,
   "id": "7df25bc1-3933-47d7-ae74-dcea832ed4d5",
   "metadata": {},
   "outputs": [
    {
     "name": "stdout",
     "output_type": "stream",
     "text": [
      "CPU times: user 3h 39min 37s, sys: 9.82 s, total: 3h 39min 47s\n",
      "Wall time: 3h 25min 47s\n"
     ]
    },
    {
     "data": {
      "text/html": [
       "<div>\n",
       "<style scoped>\n",
       "    .dataframe tbody tr th:only-of-type {\n",
       "        vertical-align: middle;\n",
       "    }\n",
       "\n",
       "    .dataframe tbody tr th {\n",
       "        vertical-align: top;\n",
       "    }\n",
       "\n",
       "    .dataframe thead th {\n",
       "        text-align: right;\n",
       "    }\n",
       "</style>\n",
       "<table border=\"1\" class=\"dataframe\">\n",
       "  <thead>\n",
       "    <tr style=\"text-align: right;\">\n",
       "      <th></th>\n",
       "      <th>ALL</th>\n",
       "      <th>I</th>\n",
       "      <th>M</th>\n",
       "      <th>R</th>\n",
       "      <th>D</th>\n",
       "    </tr>\n",
       "  </thead>\n",
       "  <tbody>\n",
       "    <tr>\n",
       "      <th>rouge1</th>\n",
       "      <td>0.5642</td>\n",
       "      <td>0.4657</td>\n",
       "      <td>0.4159</td>\n",
       "      <td>0.4392</td>\n",
       "      <td>0.4596</td>\n",
       "    </tr>\n",
       "    <tr>\n",
       "      <th>rouge2</th>\n",
       "      <td>0.2587</td>\n",
       "      <td>0.2330</td>\n",
       "      <td>0.1725</td>\n",
       "      <td>0.1909</td>\n",
       "      <td>0.2457</td>\n",
       "    </tr>\n",
       "    <tr>\n",
       "      <th>rougeL</th>\n",
       "      <td>0.3093</td>\n",
       "      <td>0.3222</td>\n",
       "      <td>0.2747</td>\n",
       "      <td>0.2728</td>\n",
       "      <td>0.3434</td>\n",
       "    </tr>\n",
       "    <tr>\n",
       "      <th>rougeLsum</th>\n",
       "      <td>0.3092</td>\n",
       "      <td>0.3222</td>\n",
       "      <td>0.2746</td>\n",
       "      <td>0.2727</td>\n",
       "      <td>0.3433</td>\n",
       "    </tr>\n",
       "  </tbody>\n",
       "</table>\n",
       "</div>"
      ],
      "text/plain": [
       "              ALL       I       M       R       D\n",
       "rouge1     0.5642  0.4657  0.4159  0.4392  0.4596\n",
       "rouge2     0.2587  0.2330  0.1725  0.1909  0.2457\n",
       "rougeL     0.3093  0.3222  0.2747  0.2728  0.3434\n",
       "rougeLsum  0.3092  0.3222  0.2746  0.2727  0.3433"
      ]
     },
     "execution_count": 8,
     "metadata": {},
     "output_type": "execute_result"
    }
   ],
   "source": [
    "%%time\n",
    "model_checkpoint = '../abstractive_summarizer/model/checkpoint_biobart/checkpoint-16875' # 3-th checkpoint\n",
    "TOKENIZER = AutoTokenizer.from_pretrained(model_checkpoint, model_max_length=1024)\n",
    "ABSTRMODEL = AutoModelForSeq2SeqLM.from_pretrained(model_checkpoint)\n",
    "ABSTRMODEL = ABSTRMODEL.to(device)\n",
    "main(tokenizer=TOKENIZER, model=ABSTRMODEL)"
   ]
  },
  {
   "attachments": {},
   "cell_type": "markdown",
   "id": "bf56884c-ef5c-4176-bd03-0d757828d2f4",
   "metadata": {},
   "source": [
    "#### 3. LGBM+TB+BioBART"
   ]
  },
  {
   "cell_type": "code",
   "execution_count": 7,
   "id": "df857ad9-1931-46c2-a7d2-6609bdeb0934",
   "metadata": {},
   "outputs": [],
   "source": [
    "set_trigram_blocking = True"
   ]
  },
  {
   "cell_type": "code",
   "execution_count": 8,
   "id": "adbf6254-4fde-4666-8187-c002d5204a38",
   "metadata": {},
   "outputs": [
    {
     "name": "stdout",
     "output_type": "stream",
     "text": [
      "CPU times: user 3h 15min 31s, sys: 8.19 s, total: 3h 15min 39s\n",
      "Wall time: 3h 1min 35s\n"
     ]
    },
    {
     "data": {
      "text/html": [
       "<div>\n",
       "<style scoped>\n",
       "    .dataframe tbody tr th:only-of-type {\n",
       "        vertical-align: middle;\n",
       "    }\n",
       "\n",
       "    .dataframe tbody tr th {\n",
       "        vertical-align: top;\n",
       "    }\n",
       "\n",
       "    .dataframe thead th {\n",
       "        text-align: right;\n",
       "    }\n",
       "</style>\n",
       "<table border=\"1\" class=\"dataframe\">\n",
       "  <thead>\n",
       "    <tr style=\"text-align: right;\">\n",
       "      <th></th>\n",
       "      <th>ALL</th>\n",
       "      <th>I</th>\n",
       "      <th>M</th>\n",
       "      <th>R</th>\n",
       "      <th>D</th>\n",
       "    </tr>\n",
       "  </thead>\n",
       "  <tbody>\n",
       "    <tr>\n",
       "      <th>rouge1</th>\n",
       "      <td>0.5419</td>\n",
       "      <td>0.4517</td>\n",
       "      <td>0.3959</td>\n",
       "      <td>0.3949</td>\n",
       "      <td>0.4434</td>\n",
       "    </tr>\n",
       "    <tr>\n",
       "      <th>rouge2</th>\n",
       "      <td>0.2345</td>\n",
       "      <td>0.2157</td>\n",
       "      <td>0.1551</td>\n",
       "      <td>0.1545</td>\n",
       "      <td>0.2269</td>\n",
       "    </tr>\n",
       "    <tr>\n",
       "      <th>rougeL</th>\n",
       "      <td>0.2913</td>\n",
       "      <td>0.3082</td>\n",
       "      <td>0.2600</td>\n",
       "      <td>0.2453</td>\n",
       "      <td>0.3271</td>\n",
       "    </tr>\n",
       "    <tr>\n",
       "      <th>rougeLsum</th>\n",
       "      <td>0.2913</td>\n",
       "      <td>0.3081</td>\n",
       "      <td>0.2600</td>\n",
       "      <td>0.2452</td>\n",
       "      <td>0.3270</td>\n",
       "    </tr>\n",
       "  </tbody>\n",
       "</table>\n",
       "</div>"
      ],
      "text/plain": [
       "              ALL       I       M       R       D\n",
       "rouge1     0.5419  0.4517  0.3959  0.3949  0.4434\n",
       "rouge2     0.2345  0.2157  0.1551  0.1545  0.2269\n",
       "rougeL     0.2913  0.3082  0.2600  0.2453  0.3271\n",
       "rougeLsum  0.2913  0.3081  0.2600  0.2452  0.3270"
      ]
     },
     "execution_count": 8,
     "metadata": {},
     "output_type": "execute_result"
    }
   ],
   "source": [
    "%%time\n",
    "model_checkpoint = '../abstractive_summarizer/model/checkpoint_tb_biobart/checkpoint-16875' # 3-th checkpoint\n",
    "TOKENIZER = AutoTokenizer.from_pretrained(model_checkpoint, model_max_length=1024)\n",
    "ABSTRMODEL = AutoModelForSeq2SeqLM.from_pretrained(model_checkpoint)\n",
    "ABSTRMODEL = ABSTRMODEL.to(device)\n",
    "main(tokenizer=TOKENIZER, model=ABSTRMODEL)"
   ]
  },
  {
   "attachments": {},
   "cell_type": "markdown",
   "id": "95af3395-7386-4136-8aa6-6f02af55fcfb",
   "metadata": {},
   "source": [
    "#### 4. LGBM+BioBART(base)"
   ]
  },
  {
   "cell_type": "code",
   "execution_count": 7,
   "id": "44194c9e-293a-4b71-a5c5-1b5d299fe2ea",
   "metadata": {},
   "outputs": [],
   "source": [
    "set_trigram_blocking = False"
   ]
  },
  {
   "cell_type": "code",
   "execution_count": 8,
   "id": "c8662447-0b8c-426e-aeae-50e689743cc0",
   "metadata": {},
   "outputs": [],
   "source": [
    "model_checkpoint = \"GanjinZero/biobart-v2-base\"\n",
    "TOKENIZER = AutoTokenizer.from_pretrained(model_checkpoint, model_max_length=1024)\n",
    "ABSTRMODEL = AutoModelForSeq2SeqLM.from_pretrained(model_checkpoint)\n",
    "generation_config = {\n",
    "    'num_beams': 5,\n",
    "    'max_length': 512,\n",
    "    'min_length': 64,\n",
    "    'length_penalty': 2.0,\n",
    "    'early_stopping': True,\n",
    "    'no_repeat_ngram_size': None\n",
    "}\n",
    "\n",
    "ABSTRMODEL.config.update(generation_config)"
   ]
  },
  {
   "cell_type": "code",
   "execution_count": 9,
   "id": "482aec64-1868-407b-9746-d87f500268e6",
   "metadata": {},
   "outputs": [
    {
     "name": "stdout",
     "output_type": "stream",
     "text": [
      "CPU times: user 10h 47min 3s, sys: 19.8 s, total: 10h 47min 22s\n",
      "Wall time: 10h 32min 16s\n"
     ]
    },
    {
     "data": {
      "text/html": [
       "<div>\n",
       "<style scoped>\n",
       "    .dataframe tbody tr th:only-of-type {\n",
       "        vertical-align: middle;\n",
       "    }\n",
       "\n",
       "    .dataframe tbody tr th {\n",
       "        vertical-align: top;\n",
       "    }\n",
       "\n",
       "    .dataframe thead th {\n",
       "        text-align: right;\n",
       "    }\n",
       "</style>\n",
       "<table border=\"1\" class=\"dataframe\">\n",
       "  <thead>\n",
       "    <tr style=\"text-align: right;\">\n",
       "      <th></th>\n",
       "      <th>ALL</th>\n",
       "      <th>I</th>\n",
       "      <th>M</th>\n",
       "      <th>R</th>\n",
       "      <th>D</th>\n",
       "    </tr>\n",
       "  </thead>\n",
       "  <tbody>\n",
       "    <tr>\n",
       "      <th>rouge1</th>\n",
       "      <td>0.3773</td>\n",
       "      <td>0.3103</td>\n",
       "      <td>0.2829</td>\n",
       "      <td>0.3453</td>\n",
       "      <td>0.3640</td>\n",
       "    </tr>\n",
       "    <tr>\n",
       "      <th>rouge2</th>\n",
       "      <td>0.2041</td>\n",
       "      <td>0.1610</td>\n",
       "      <td>0.1235</td>\n",
       "      <td>0.1699</td>\n",
       "      <td>0.2107</td>\n",
       "    </tr>\n",
       "    <tr>\n",
       "      <th>rougeL</th>\n",
       "      <td>0.2245</td>\n",
       "      <td>0.2156</td>\n",
       "      <td>0.1821</td>\n",
       "      <td>0.2184</td>\n",
       "      <td>0.2778</td>\n",
       "    </tr>\n",
       "    <tr>\n",
       "      <th>rougeLsum</th>\n",
       "      <td>0.2245</td>\n",
       "      <td>0.2156</td>\n",
       "      <td>0.1820</td>\n",
       "      <td>0.2184</td>\n",
       "      <td>0.2777</td>\n",
       "    </tr>\n",
       "  </tbody>\n",
       "</table>\n",
       "</div>"
      ],
      "text/plain": [
       "              ALL       I       M       R       D\n",
       "rouge1     0.3773  0.3103  0.2829  0.3453  0.3640\n",
       "rouge2     0.2041  0.1610  0.1235  0.1699  0.2107\n",
       "rougeL     0.2245  0.2156  0.1821  0.2184  0.2778\n",
       "rougeLsum  0.2245  0.2156  0.1820  0.2184  0.2777"
      ]
     },
     "execution_count": 9,
     "metadata": {},
     "output_type": "execute_result"
    }
   ],
   "source": [
    "%%time\n",
    "ABSTRMODEL = ABSTRMODEL.to(device)\n",
    "main(tokenizer=TOKENIZER, model=ABSTRMODEL)"
   ]
  },
  {
   "attachments": {},
   "cell_type": "markdown",
   "id": "f682b5ab-6d78-4bc2-b5bb-a1c0c739ac55",
   "metadata": {},
   "source": [
    "#### 5. BioBART"
   ]
  },
  {
   "cell_type": "code",
   "execution_count": 7,
   "id": "ba440a67-5fed-4d71-a507-7f2f0e8a9b15",
   "metadata": {},
   "outputs": [],
   "source": [
    "set_trigram_blocking = False"
   ]
  },
  {
   "cell_type": "code",
   "execution_count": 8,
   "id": "1c1e6239-cc03-4b87-925d-f2073e328ab9",
   "metadata": {},
   "outputs": [],
   "source": [
    "def generate_abs(body, tokenizer, model):\n",
    "    abstr = {key: '' for key in 'IMRD'}\n",
    "    for section in 'IMRD':\n",
    "        text = ' '.join([i['text'] for i in body if i['section'] == section])\n",
    "        model_inputs = tokenizer(text,  truncation=True, return_tensors='pt').input_ids\n",
    "        outputs = model.generate(model_inputs.to(device))\n",
    "        abstr_text = tokenizer.decode(outputs[0], skip_special_tokens=True)\n",
    "        abstr[section] = abstr_text\n",
    "    return abstr"
   ]
  },
  {
   "cell_type": "code",
   "execution_count": 9,
   "id": "2575a8e5-25c4-4cf7-a1cb-aee834c025fa",
   "metadata": {},
   "outputs": [],
   "source": [
    "def main_abs(tokenizer, model, pmcid_file=IDS_PATH, json_dir=JSON_DIR):\n",
    "    \n",
    "    rouge = evaluate.load('rouge')\n",
    "    pmcids = read_pmcids(pmcid_file)\n",
    "    lst = ['ALL', 'I', 'M', 'R', 'D']\n",
    "    hyp = {key: [] for key in lst}\n",
    "    ref = {key: [] for key in lst}\n",
    "    \n",
    "    for pmcid in pmcids:\n",
    "        # 讀 Json 檔案轉成 obj\n",
    "        sentJson = sent_json(f'{json_dir}/{pmcid}.json')\n",
    "        body = convert_sentence_obj(sentJson['body'])\n",
    "        hypothesis = generate_abs(body, tokenizer, model)\n",
    "        reference = convert_sentence_obj(sentJson['abstract'])\n",
    "        \n",
    "        for section in lst:\n",
    "            section_filter = 'IMRD' if section == 'ALL' else section\n",
    "            hyp_txt = ' '.join(list(hypothesis[x] for x in section_filter))\n",
    "            ref_txt = ' '.join([i['text'] for i in reference if i['section'] in section_filter])\n",
    "            hyp[section].append(hyp_txt)\n",
    "            ref[section].append(ref_txt)\n",
    "        \n",
    "    res = {key: rouge.compute(predictions=hyp[key], references=ref[key], use_stemmer=True, use_aggregator=True) for key in lst}\n",
    "    return pd.DataFrame(res).round(4)"
   ]
  },
  {
   "cell_type": "code",
   "execution_count": 11,
   "id": "5b457cbb-35ed-4c94-ab8a-db309d063d9b",
   "metadata": {},
   "outputs": [
    {
     "name": "stdout",
     "output_type": "stream",
     "text": [
      "CPU times: user 3h 55min 35s, sys: 4.6 s, total: 3h 55min 40s\n",
      "Wall time: 3h 55min 35s\n"
     ]
    },
    {
     "data": {
      "text/html": [
       "<div>\n",
       "<style scoped>\n",
       "    .dataframe tbody tr th:only-of-type {\n",
       "        vertical-align: middle;\n",
       "    }\n",
       "\n",
       "    .dataframe tbody tr th {\n",
       "        vertical-align: top;\n",
       "    }\n",
       "\n",
       "    .dataframe thead th {\n",
       "        text-align: right;\n",
       "    }\n",
       "</style>\n",
       "<table border=\"1\" class=\"dataframe\">\n",
       "  <thead>\n",
       "    <tr style=\"text-align: right;\">\n",
       "      <th></th>\n",
       "      <th>ALL</th>\n",
       "      <th>I</th>\n",
       "      <th>M</th>\n",
       "      <th>R</th>\n",
       "      <th>D</th>\n",
       "    </tr>\n",
       "  </thead>\n",
       "  <tbody>\n",
       "    <tr>\n",
       "      <th>rouge1</th>\n",
       "      <td>0.5446</td>\n",
       "      <td>0.4529</td>\n",
       "      <td>0.4060</td>\n",
       "      <td>0.4313</td>\n",
       "      <td>0.3389</td>\n",
       "    </tr>\n",
       "    <tr>\n",
       "      <th>rouge2</th>\n",
       "      <td>0.2342</td>\n",
       "      <td>0.2202</td>\n",
       "      <td>0.1663</td>\n",
       "      <td>0.1851</td>\n",
       "      <td>0.1140</td>\n",
       "    </tr>\n",
       "    <tr>\n",
       "      <th>rougeL</th>\n",
       "      <td>0.2809</td>\n",
       "      <td>0.3100</td>\n",
       "      <td>0.2679</td>\n",
       "      <td>0.2677</td>\n",
       "      <td>0.2155</td>\n",
       "    </tr>\n",
       "    <tr>\n",
       "      <th>rougeLsum</th>\n",
       "      <td>0.2809</td>\n",
       "      <td>0.3100</td>\n",
       "      <td>0.2679</td>\n",
       "      <td>0.2678</td>\n",
       "      <td>0.2155</td>\n",
       "    </tr>\n",
       "  </tbody>\n",
       "</table>\n",
       "</div>"
      ],
      "text/plain": [
       "              ALL       I       M       R       D\n",
       "rouge1     0.5446  0.4529  0.4060  0.4313  0.3389\n",
       "rouge2     0.2342  0.2202  0.1663  0.1851  0.1140\n",
       "rougeL     0.2809  0.3100  0.2679  0.2677  0.2155\n",
       "rougeLsum  0.2809  0.3100  0.2679  0.2678  0.2155"
      ]
     },
     "execution_count": 11,
     "metadata": {},
     "output_type": "execute_result"
    }
   ],
   "source": [
    "%%time\n",
    "model_checkpoint = '../abstractive_summarizer/model/checkpoint_biobart/checkpoint-16875' # 3-th checkpoint\n",
    "TOKENIZER = AutoTokenizer.from_pretrained(model_checkpoint, model_max_length=1024)\n",
    "ABSTRMODEL = AutoModelForSeq2SeqLM.from_pretrained(model_checkpoint)\n",
    "ABSTRMODEL = ABSTRMODEL.to(device)\n",
    "main_abs(tokenizer=TOKENIZER, model=ABSTRMODEL)"
   ]
  },
  {
   "cell_type": "code",
   "execution_count": null,
   "id": "e83aef4f-2100-4135-8f50-924a1a5c314d",
   "metadata": {},
   "outputs": [],
   "source": []
  }
 ],
 "metadata": {
  "kernelspec": {
   "display_name": "python3_rapids",
   "language": "python",
   "name": "python3_rapids"
  },
  "language_info": {
   "codemirror_mode": {
    "name": "ipython",
    "version": 3
   },
   "file_extension": ".py",
   "mimetype": "text/x-python",
   "name": "python",
   "nbconvert_exporter": "python",
   "pygments_lexer": "ipython3",
   "version": "3.10.9"
  }
 },
 "nbformat": 4,
 "nbformat_minor": 5
}
