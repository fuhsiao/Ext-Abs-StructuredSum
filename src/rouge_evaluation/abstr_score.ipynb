{
 "cells": [
  {
   "cell_type": "code",
   "execution_count": 1,
   "id": "050a0304-cb06-4206-8761-e3de8cf50a6d",
   "metadata": {},
   "outputs": [],
   "source": [
    "import os\n",
    "import torch\n",
    "import evaluate\n",
    "import numpy as np\n",
    "import pandas as pd\n",
    "from transformers import AutoTokenizer, AutoModelForSeq2SeqLM\n",
    "from eval_utils import read_pmcids, sent_json, load_ExtModel, load_AbstrModel, TrigramBlock, convert_sentence_obj\n",
    "\n",
    "import warnings\n",
    "warnings.simplefilter(\"ignore\", FutureWarning)\n",
    "warnings.simplefilter(\"ignore\", UserWarning)"
   ]
  },
  {
   "cell_type": "code",
   "execution_count": 2,
   "id": "6fbdbbdb-9358-444d-837a-9985bc7ec4c4",
   "metadata": {},
   "outputs": [],
   "source": [
    "IDS_PATH = '../../dataset/pmcids/test.txt'\n",
    "JSON_DIR = '../../dataset/sentence_json/'\n",
    "PARQUET_DIR = '../../dataset/sentence_features/'\n",
    "MODEL = load_ExtModel('../extractive_summarizer/model/LGB_model_F10_S.pkl')\n",
    "BLOCK = ['F8','F9','label']\n",
    "device = torch.device(\"cuda\" if torch.cuda.is_available() else \"cpu\")"
   ]
  },
  {
   "cell_type": "code",
   "execution_count": 3,
   "id": "71c30e34-7ea5-427c-b320-451ace93c400",
   "metadata": {},
   "outputs": [],
   "source": [
    "def convert_sentence_df(sentJson, pred, true_proba):\n",
    "    \n",
    "    # 摘要、正文 轉換為 DataFrame\n",
    "    abstract = pd.DataFrame([(section, sent['text'].strip()) for section in 'IMRD' for sent in sentJson['abstract'][section]],\n",
    "                       columns=['section', 'text']).astype({'section': 'category', 'text': 'string'})\n",
    "    \n",
    "    body = pd.DataFrame([(section, sent['text'].strip(), sent['label']) for section in 'IMRD' for sent in sentJson['body'][section]],\n",
    "                       columns=['section', 'text', 'label']).astype({'section': 'category', 'text': 'string', 'label': 'bool'})\n",
    "\n",
    "    # 加上預測結果和機率\n",
    "    body['predict'] = pred.astype('bool')\n",
    "    body['proba'] = true_proba.astype('float16')\n",
    "\n",
    "    \n",
    "    # 對每章節的提取句子進行 trigram blocking\n",
    "    if set_trigram_blocking:\n",
    "        for section in 'IMRD':\n",
    "            block = TrigramBlock()\n",
    "            temp = body.loc[(body['section'] == section) & (body['predict'] == True)].sort_values(by='proba', ascending=False)\n",
    "            for i, row in temp.iterrows():\n",
    "                if block.check_overlap(row['text']):\n",
    "                    body.at[i, 'predict'] = False \n",
    "                    \n",
    "    return body, abstract"
   ]
  },
  {
   "cell_type": "code",
   "execution_count": 4,
   "id": "60cbab11-69a2-47a0-b8cc-b18be95fb036",
   "metadata": {},
   "outputs": [],
   "source": [
    "def process_article(pmcid, threshold,\n",
    "                    model=MODEL, block_cols=BLOCK, json_dir=JSON_DIR, parquet_dir=PARQUET_DIR):\n",
    "    \n",
    "    # 預測\n",
    "    def predict(x):\n",
    "        true_proba = model.predict_proba(x)[:, 1]\n",
    "        # 如果沒有任何句子的預測機率大於閾值，則選取最大機率的句子為摘要句\n",
    "        if not np.any(true_proba > threshold):\n",
    "            true_proba[true_proba == np.max(true_proba)] = 1\n",
    "        pred = (true_proba > threshold).astype('int')\n",
    "        return pred, true_proba\n",
    "    \n",
    "    # 讀取句子特徵，進行預測\n",
    "    df = pd.read_parquet(f'{parquet_dir}/{pmcid}.parquet')\n",
    "    sentFeat  = df.drop(columns=block_cols)\n",
    "    pred, true_proba = predict(sentFeat)\n",
    "    \n",
    "    # 讀取句子資料，組合對應文本\n",
    "    sentJson = sent_json(f'{json_dir}/{pmcid}.json')\n",
    "    body, abstract = convert_sentence_df(sentJson, pred, true_proba)\n",
    "    ext = body[body['predict'] == True]\n",
    "    \n",
    "    return ext, abstract "
   ]
  },
  {
   "cell_type": "code",
   "execution_count": 5,
   "id": "d2b1cc8c-3f56-4572-b5e2-1be3dbd6f51c",
   "metadata": {},
   "outputs": [],
   "source": [
    "def generate(ext, tokenizer, model):\n",
    "    abstr = {key: '' for key in 'IMRD'}\n",
    "    for section in 'IMRD':\n",
    "        ext_text = ' '.join(list(ext[ext['section']==section]['text']))\n",
    "        model_inputs = tokenizer(ext_text,  truncation=True, return_tensors='pt').input_ids\n",
    "        outputs = model.generate(model_inputs.to(device))\n",
    "        abstr_text = tokenizer.decode(outputs[0], skip_special_tokens=True)\n",
    "        abstr[section] = abstr_text\n",
    "    return abstr"
   ]
  },
  {
   "cell_type": "code",
   "execution_count": 6,
   "id": "a16fc623-3c72-41b0-ae04-33160b9c7b73",
   "metadata": {},
   "outputs": [],
   "source": [
    "def main(tokenizer, model, pmcid_file=IDS_PATH, threshold=0.5):\n",
    "    \n",
    "    rouge = evaluate.load('rouge')\n",
    "    pmcids = read_pmcids(pmcid_file)\n",
    "    lst = ['ALL', 'I', 'M', 'R', 'D']\n",
    "    hyp = {key: [] for key in lst}\n",
    "    ref = {key: [] for key in lst}\n",
    "    \n",
    "    for pmcid in pmcids:\n",
    "        ext, abstract = process_article(pmcid, threshold)\n",
    "        abstr = generate(ext, tokenizer, model)      \n",
    "        for section in lst:\n",
    "            section_filter = 'IMRD' if section == 'ALL' else section\n",
    "            hyp_txt = ' '.join(list(abstr[x] for x in section_filter))\n",
    "            ref_txt = ' '.join(list(abstract['text'])) if section == 'ALL' else ' '.join(list(abstract[abstract['section']==section]['text']))\n",
    "            hyp[section].append(hyp_txt)\n",
    "            ref[section].append(ref_txt)\n",
    "\n",
    "    res = {key: rouge.compute(predictions=hyp[key], references=ref[key], use_stemmer=True, use_aggregator=True) for key in lst}\n",
    "    return pd.DataFrame(res).round(4)"
   ]
  },
  {
   "cell_type": "markdown",
   "id": "45237938-27b6-49c0-978e-3c88fcda3882",
   "metadata": {},
   "source": [
    "### LGBM+BART/BioBART"
   ]
  },
  {
   "cell_type": "code",
   "execution_count": 7,
   "id": "0f6ff2ef-d233-46a0-9edf-78499b3be6cd",
   "metadata": {},
   "outputs": [],
   "source": [
    "set_trigram_blocking = False"
   ]
  },
  {
   "cell_type": "code",
   "execution_count": 8,
   "id": "f41a4d13-1ada-4e2c-99ff-efd1ebe7715a",
   "metadata": {},
   "outputs": [
    {
     "data": {
      "text/html": [
       "<div>\n",
       "<style scoped>\n",
       "    .dataframe tbody tr th:only-of-type {\n",
       "        vertical-align: middle;\n",
       "    }\n",
       "\n",
       "    .dataframe tbody tr th {\n",
       "        vertical-align: top;\n",
       "    }\n",
       "\n",
       "    .dataframe thead th {\n",
       "        text-align: right;\n",
       "    }\n",
       "</style>\n",
       "<table border=\"1\" class=\"dataframe\">\n",
       "  <thead>\n",
       "    <tr style=\"text-align: right;\">\n",
       "      <th></th>\n",
       "      <th>ALL</th>\n",
       "      <th>I</th>\n",
       "      <th>M</th>\n",
       "      <th>R</th>\n",
       "      <th>D</th>\n",
       "    </tr>\n",
       "  </thead>\n",
       "  <tbody>\n",
       "    <tr>\n",
       "      <th>rouge1</th>\n",
       "      <td>0.5581</td>\n",
       "      <td>0.4637</td>\n",
       "      <td>0.4049</td>\n",
       "      <td>0.4359</td>\n",
       "      <td>0.4571</td>\n",
       "    </tr>\n",
       "    <tr>\n",
       "      <th>rouge2</th>\n",
       "      <td>0.2657</td>\n",
       "      <td>0.2335</td>\n",
       "      <td>0.1685</td>\n",
       "      <td>0.2066</td>\n",
       "      <td>0.2497</td>\n",
       "    </tr>\n",
       "    <tr>\n",
       "      <th>rougeL</th>\n",
       "      <td>0.3150</td>\n",
       "      <td>0.3273</td>\n",
       "      <td>0.2713</td>\n",
       "      <td>0.2843</td>\n",
       "      <td>0.3476</td>\n",
       "    </tr>\n",
       "    <tr>\n",
       "      <th>rougeLsum</th>\n",
       "      <td>0.3150</td>\n",
       "      <td>0.3272</td>\n",
       "      <td>0.2712</td>\n",
       "      <td>0.2843</td>\n",
       "      <td>0.3478</td>\n",
       "    </tr>\n",
       "  </tbody>\n",
       "</table>\n",
       "</div>"
      ],
      "text/plain": [
       "              ALL       I       M       R       D\n",
       "rouge1     0.5581  0.4637  0.4049  0.4359  0.4571\n",
       "rouge2     0.2657  0.2335  0.1685  0.2066  0.2497\n",
       "rougeL     0.3150  0.3273  0.2713  0.2843  0.3476\n",
       "rougeLsum  0.3150  0.3272  0.2712  0.2843  0.3478"
      ]
     },
     "execution_count": 8,
     "metadata": {},
     "output_type": "execute_result"
    }
   ],
   "source": [
    "model_checkpoint = '../abstractive_summarizer/checkpoint_bart/checkpoint-50625'\n",
    "TOKENIZER = AutoTokenizer.from_pretrained(model_checkpoint)\n",
    "ABSTRMODEL = AutoModelForSeq2SeqLM.from_pretrained(model_checkpoint)\n",
    "ABSTRMODEL = ABSTRMODEL.to(device)\n",
    "main(tokenizer=TOKENIZER, model=ABSTRMODEL)"
   ]
  },
  {
   "cell_type": "code",
   "execution_count": 11,
   "id": "d45997fd-d715-4f48-9f08-46a2b51d30e0",
   "metadata": {},
   "outputs": [
    {
     "name": "stdout",
     "output_type": "stream",
     "text": [
      "CPU times: user 3h 47min 45s, sys: 8.04 s, total: 3h 47min 53s\n",
      "Wall time: 3h 33min 50s\n"
     ]
    },
    {
     "data": {
      "text/html": [
       "<div>\n",
       "<style scoped>\n",
       "    .dataframe tbody tr th:only-of-type {\n",
       "        vertical-align: middle;\n",
       "    }\n",
       "\n",
       "    .dataframe tbody tr th {\n",
       "        vertical-align: top;\n",
       "    }\n",
       "\n",
       "    .dataframe thead th {\n",
       "        text-align: right;\n",
       "    }\n",
       "</style>\n",
       "<table border=\"1\" class=\"dataframe\">\n",
       "  <thead>\n",
       "    <tr style=\"text-align: right;\">\n",
       "      <th></th>\n",
       "      <th>ALL</th>\n",
       "      <th>I</th>\n",
       "      <th>M</th>\n",
       "      <th>R</th>\n",
       "      <th>D</th>\n",
       "    </tr>\n",
       "  </thead>\n",
       "  <tbody>\n",
       "    <tr>\n",
       "      <th>rouge1</th>\n",
       "      <td>0.5639</td>\n",
       "      <td>0.4692</td>\n",
       "      <td>0.4157</td>\n",
       "      <td>0.4424</td>\n",
       "      <td>0.4610</td>\n",
       "    </tr>\n",
       "    <tr>\n",
       "      <th>rouge2</th>\n",
       "      <td>0.2709</td>\n",
       "      <td>0.2383</td>\n",
       "      <td>0.1761</td>\n",
       "      <td>0.2135</td>\n",
       "      <td>0.2518</td>\n",
       "    </tr>\n",
       "    <tr>\n",
       "      <th>rougeL</th>\n",
       "      <td>0.3207</td>\n",
       "      <td>0.3314</td>\n",
       "      <td>0.2796</td>\n",
       "      <td>0.2913</td>\n",
       "      <td>0.3514</td>\n",
       "    </tr>\n",
       "    <tr>\n",
       "      <th>rougeLsum</th>\n",
       "      <td>0.3207</td>\n",
       "      <td>0.3313</td>\n",
       "      <td>0.2796</td>\n",
       "      <td>0.2913</td>\n",
       "      <td>0.3514</td>\n",
       "    </tr>\n",
       "  </tbody>\n",
       "</table>\n",
       "</div>"
      ],
      "text/plain": [
       "              ALL       I       M       R       D\n",
       "rouge1     0.5639  0.4692  0.4157  0.4424  0.4610\n",
       "rouge2     0.2709  0.2383  0.1761  0.2135  0.2518\n",
       "rougeL     0.3207  0.3314  0.2796  0.2913  0.3514\n",
       "rougeLsum  0.3207  0.3313  0.2796  0.2913  0.3514"
      ]
     },
     "execution_count": 11,
     "metadata": {},
     "output_type": "execute_result"
    }
   ],
   "source": [
    "%%time\n",
    "model_checkpoint = '../abstractive_summarizer/checkpoint_biobart/checkpoint-50625'\n",
    "TOKENIZER = AutoTokenizer.from_pretrained(model_checkpoint, model_max_length=1024)\n",
    "ABSTRMODEL = AutoModelForSeq2SeqLM.from_pretrained(model_checkpoint)\n",
    "ABSTRMODEL = ABSTRMODEL.to(device)\n",
    "main(tokenizer=TOKENIZER, model=ABSTRMODEL)"
   ]
  },
  {
   "cell_type": "code",
   "execution_count": 7,
   "id": "df857ad9-1931-46c2-a7d2-6609bdeb0934",
   "metadata": {},
   "outputs": [],
   "source": [
    "set_trigram_blocking = True"
   ]
  },
  {
   "cell_type": "code",
   "execution_count": 8,
   "id": "3be119ca-dfe1-4b7d-aea9-166a73977a03",
   "metadata": {},
   "outputs": [
    {
     "name": "stdout",
     "output_type": "stream",
     "text": [
      "CPU times: user 3h 7min 10s, sys: 8.98 s, total: 3h 7min 19s\n",
      "Wall time: 2h 53min 20s\n"
     ]
    },
    {
     "data": {
      "text/html": [
       "<div>\n",
       "<style scoped>\n",
       "    .dataframe tbody tr th:only-of-type {\n",
       "        vertical-align: middle;\n",
       "    }\n",
       "\n",
       "    .dataframe tbody tr th {\n",
       "        vertical-align: top;\n",
       "    }\n",
       "\n",
       "    .dataframe thead th {\n",
       "        text-align: right;\n",
       "    }\n",
       "</style>\n",
       "<table border=\"1\" class=\"dataframe\">\n",
       "  <thead>\n",
       "    <tr style=\"text-align: right;\">\n",
       "      <th></th>\n",
       "      <th>ALL</th>\n",
       "      <th>I</th>\n",
       "      <th>M</th>\n",
       "      <th>R</th>\n",
       "      <th>D</th>\n",
       "    </tr>\n",
       "  </thead>\n",
       "  <tbody>\n",
       "    <tr>\n",
       "      <th>rouge1</th>\n",
       "      <td>0.5455</td>\n",
       "      <td>0.4542</td>\n",
       "      <td>0.3988</td>\n",
       "      <td>0.3998</td>\n",
       "      <td>0.4437</td>\n",
       "    </tr>\n",
       "    <tr>\n",
       "      <th>rouge2</th>\n",
       "      <td>0.2442</td>\n",
       "      <td>0.2215</td>\n",
       "      <td>0.1606</td>\n",
       "      <td>0.1680</td>\n",
       "      <td>0.2311</td>\n",
       "    </tr>\n",
       "    <tr>\n",
       "      <th>rougeL</th>\n",
       "      <td>0.3027</td>\n",
       "      <td>0.3195</td>\n",
       "      <td>0.2672</td>\n",
       "      <td>0.2601</td>\n",
       "      <td>0.3343</td>\n",
       "    </tr>\n",
       "    <tr>\n",
       "      <th>rougeLsum</th>\n",
       "      <td>0.3028</td>\n",
       "      <td>0.3194</td>\n",
       "      <td>0.2673</td>\n",
       "      <td>0.2601</td>\n",
       "      <td>0.3343</td>\n",
       "    </tr>\n",
       "  </tbody>\n",
       "</table>\n",
       "</div>"
      ],
      "text/plain": [
       "              ALL       I       M       R       D\n",
       "rouge1     0.5455  0.4542  0.3988  0.3998  0.4437\n",
       "rouge2     0.2442  0.2215  0.1606  0.1680  0.2311\n",
       "rougeL     0.3027  0.3195  0.2672  0.2601  0.3343\n",
       "rougeLsum  0.3028  0.3194  0.2673  0.2601  0.3343"
      ]
     },
     "execution_count": 8,
     "metadata": {},
     "output_type": "execute_result"
    }
   ],
   "source": [
    "%%time\n",
    "model_checkpoint = '../abstractive_summarizer/checkpoint_tb_biobart/checkpoint-50625'\n",
    "TOKENIZER = AutoTokenizer.from_pretrained(model_checkpoint, model_max_length=1024)\n",
    "ABSTRMODEL = AutoModelForSeq2SeqLM.from_pretrained(model_checkpoint)\n",
    "ABSTRMODEL = ABSTRMODEL.to(device)\n",
    "main(tokenizer=TOKENIZER, model=ABSTRMODEL)"
   ]
  },
  {
   "cell_type": "markdown",
   "id": "95af3395-7386-4136-8aa6-6f02af55fcfb",
   "metadata": {},
   "source": [
    "### LGBM+BioBART (base)"
   ]
  },
  {
   "cell_type": "code",
   "execution_count": 7,
   "id": "44194c9e-293a-4b71-a5c5-1b5d299fe2ea",
   "metadata": {},
   "outputs": [],
   "source": [
    "set_trigram_blocking = False"
   ]
  },
  {
   "cell_type": "code",
   "execution_count": 8,
   "id": "c8662447-0b8c-426e-aeae-50e689743cc0",
   "metadata": {},
   "outputs": [],
   "source": [
    "model_checkpoint = \"GanjinZero/biobart-v2-base\"\n",
    "TOKENIZER = AutoTokenizer.from_pretrained(model_checkpoint, model_max_length=1024)\n",
    "ABSTRMODEL = AutoModelForSeq2SeqLM.from_pretrained(model_checkpoint)\n",
    "generation_config = {\n",
    "    'num_beams': 5,\n",
    "    'max_length': 512,\n",
    "    'min_length': 64,\n",
    "    'length_penalty': 2.0,\n",
    "    'early_stopping': True,\n",
    "    'no_repeat_ngram_size': None\n",
    "}\n",
    "\n",
    "ABSTRMODEL.config.update(generation_config)"
   ]
  },
  {
   "cell_type": "code",
   "execution_count": 9,
   "id": "482aec64-1868-407b-9746-d87f500268e6",
   "metadata": {},
   "outputs": [
    {
     "name": "stdout",
     "output_type": "stream",
     "text": [
      "CPU times: user 10h 47min 3s, sys: 19.8 s, total: 10h 47min 22s\n",
      "Wall time: 10h 32min 16s\n"
     ]
    },
    {
     "data": {
      "text/html": [
       "<div>\n",
       "<style scoped>\n",
       "    .dataframe tbody tr th:only-of-type {\n",
       "        vertical-align: middle;\n",
       "    }\n",
       "\n",
       "    .dataframe tbody tr th {\n",
       "        vertical-align: top;\n",
       "    }\n",
       "\n",
       "    .dataframe thead th {\n",
       "        text-align: right;\n",
       "    }\n",
       "</style>\n",
       "<table border=\"1\" class=\"dataframe\">\n",
       "  <thead>\n",
       "    <tr style=\"text-align: right;\">\n",
       "      <th></th>\n",
       "      <th>ALL</th>\n",
       "      <th>I</th>\n",
       "      <th>M</th>\n",
       "      <th>R</th>\n",
       "      <th>D</th>\n",
       "    </tr>\n",
       "  </thead>\n",
       "  <tbody>\n",
       "    <tr>\n",
       "      <th>rouge1</th>\n",
       "      <td>0.3773</td>\n",
       "      <td>0.3103</td>\n",
       "      <td>0.2829</td>\n",
       "      <td>0.3453</td>\n",
       "      <td>0.3640</td>\n",
       "    </tr>\n",
       "    <tr>\n",
       "      <th>rouge2</th>\n",
       "      <td>0.2041</td>\n",
       "      <td>0.1610</td>\n",
       "      <td>0.1235</td>\n",
       "      <td>0.1699</td>\n",
       "      <td>0.2107</td>\n",
       "    </tr>\n",
       "    <tr>\n",
       "      <th>rougeL</th>\n",
       "      <td>0.2245</td>\n",
       "      <td>0.2156</td>\n",
       "      <td>0.1821</td>\n",
       "      <td>0.2184</td>\n",
       "      <td>0.2778</td>\n",
       "    </tr>\n",
       "    <tr>\n",
       "      <th>rougeLsum</th>\n",
       "      <td>0.2245</td>\n",
       "      <td>0.2156</td>\n",
       "      <td>0.1820</td>\n",
       "      <td>0.2184</td>\n",
       "      <td>0.2777</td>\n",
       "    </tr>\n",
       "  </tbody>\n",
       "</table>\n",
       "</div>"
      ],
      "text/plain": [
       "              ALL       I       M       R       D\n",
       "rouge1     0.3773  0.3103  0.2829  0.3453  0.3640\n",
       "rouge2     0.2041  0.1610  0.1235  0.1699  0.2107\n",
       "rougeL     0.2245  0.2156  0.1821  0.2184  0.2778\n",
       "rougeLsum  0.2245  0.2156  0.1820  0.2184  0.2777"
      ]
     },
     "execution_count": 9,
     "metadata": {},
     "output_type": "execute_result"
    }
   ],
   "source": [
    "%%time\n",
    "ABSTRMODEL = ABSTRMODEL.to(device)\n",
    "main(tokenizer=TOKENIZER, model=ABSTRMODEL)"
   ]
  },
  {
   "cell_type": "markdown",
   "id": "f682b5ab-6d78-4bc2-b5bb-a1c0c739ac55",
   "metadata": {},
   "source": [
    "### BioBART (finetuned)"
   ]
  },
  {
   "cell_type": "code",
   "execution_count": 7,
   "id": "ba440a67-5fed-4d71-a507-7f2f0e8a9b15",
   "metadata": {},
   "outputs": [],
   "source": [
    "set_trigram_blocking = False"
   ]
  },
  {
   "cell_type": "code",
   "execution_count": 8,
   "id": "1c1e6239-cc03-4b87-925d-f2073e328ab9",
   "metadata": {},
   "outputs": [],
   "source": [
    "def generate_abs(body, tokenizer, model):\n",
    "    abstr = {key: '' for key in 'IMRD'}\n",
    "    for section in 'IMRD':\n",
    "        text = ' '.join([i['text'] for i in body if i['section'] == section])\n",
    "        model_inputs = tokenizer(text,  truncation=True, return_tensors='pt').input_ids\n",
    "        outputs = model.generate(model_inputs.to(device))\n",
    "        abstr_text = tokenizer.decode(outputs[0], skip_special_tokens=True)\n",
    "        abstr[section] = abstr_text\n",
    "    return abstr"
   ]
  },
  {
   "cell_type": "code",
   "execution_count": 9,
   "id": "2575a8e5-25c4-4cf7-a1cb-aee834c025fa",
   "metadata": {},
   "outputs": [],
   "source": [
    "def main_abs(tokenizer, model, pmcid_file=IDS_PATH, json_dir=JSON_DIR):\n",
    "    \n",
    "    rouge = evaluate.load('rouge')\n",
    "    pmcids = read_pmcids(pmcid_file)\n",
    "    lst = ['ALL', 'I', 'M', 'R', 'D']\n",
    "    hyp = {key: [] for key in lst}\n",
    "    ref = {key: [] for key in lst}\n",
    "    \n",
    "    for pmcid in pmcids:\n",
    "        # 讀 Json 檔案轉成 obj\n",
    "        sentJson = sent_json(f'{json_dir}/{pmcid}.json')\n",
    "        body = convert_sentence_obj(sentJson['body'])\n",
    "        hypothesis = generate_abs(body, tokenizer, model)\n",
    "        reference = convert_sentence_obj(sentJson['abstract'])\n",
    "        \n",
    "        for section in lst:\n",
    "            section_filter = 'IMRD' if section == 'ALL' else section\n",
    "            hyp_txt = ' '.join(list(hypothesis[x] for x in section_filter))\n",
    "            ref_txt = ' '.join([i['text'] for i in reference if i['section'] in section_filter])\n",
    "            hyp[section].append(hyp_txt)\n",
    "            ref[section].append(ref_txt)\n",
    "        \n",
    "    res = {key: rouge.compute(predictions=hyp[key], references=ref[key], use_stemmer=True, use_aggregator=True) for key in lst}\n",
    "    return pd.DataFrame(res).round(4)"
   ]
  },
  {
   "cell_type": "code",
   "execution_count": 10,
   "id": "966355e5-5905-4c60-8928-c25dbf8da692",
   "metadata": {},
   "outputs": [
    {
     "name": "stdout",
     "output_type": "stream",
     "text": [
      "CPU times: user 4h 7min 2s, sys: 4.69 s, total: 4h 7min 7s\n",
      "Wall time: 4h 7min\n"
     ]
    },
    {
     "data": {
      "text/html": [
       "<div>\n",
       "<style scoped>\n",
       "    .dataframe tbody tr th:only-of-type {\n",
       "        vertical-align: middle;\n",
       "    }\n",
       "\n",
       "    .dataframe tbody tr th {\n",
       "        vertical-align: top;\n",
       "    }\n",
       "\n",
       "    .dataframe thead th {\n",
       "        text-align: right;\n",
       "    }\n",
       "</style>\n",
       "<table border=\"1\" class=\"dataframe\">\n",
       "  <thead>\n",
       "    <tr style=\"text-align: right;\">\n",
       "      <th></th>\n",
       "      <th>ALL</th>\n",
       "      <th>I</th>\n",
       "      <th>M</th>\n",
       "      <th>R</th>\n",
       "      <th>D</th>\n",
       "    </tr>\n",
       "  </thead>\n",
       "  <tbody>\n",
       "    <tr>\n",
       "      <th>rouge1</th>\n",
       "      <td>0.5408</td>\n",
       "      <td>0.4487</td>\n",
       "      <td>0.4035</td>\n",
       "      <td>0.4352</td>\n",
       "      <td>0.3323</td>\n",
       "    </tr>\n",
       "    <tr>\n",
       "      <th>rouge2</th>\n",
       "      <td>0.2456</td>\n",
       "      <td>0.2204</td>\n",
       "      <td>0.1700</td>\n",
       "      <td>0.2073</td>\n",
       "      <td>0.1168</td>\n",
       "    </tr>\n",
       "    <tr>\n",
       "      <th>rougeL</th>\n",
       "      <td>0.2908</td>\n",
       "      <td>0.3131</td>\n",
       "      <td>0.2722</td>\n",
       "      <td>0.2859</td>\n",
       "      <td>0.2185</td>\n",
       "    </tr>\n",
       "    <tr>\n",
       "      <th>rougeLsum</th>\n",
       "      <td>0.2909</td>\n",
       "      <td>0.3131</td>\n",
       "      <td>0.2722</td>\n",
       "      <td>0.2860</td>\n",
       "      <td>0.2185</td>\n",
       "    </tr>\n",
       "  </tbody>\n",
       "</table>\n",
       "</div>"
      ],
      "text/plain": [
       "              ALL       I       M       R       D\n",
       "rouge1     0.5408  0.4487  0.4035  0.4352  0.3323\n",
       "rouge2     0.2456  0.2204  0.1700  0.2073  0.1168\n",
       "rougeL     0.2908  0.3131  0.2722  0.2859  0.2185\n",
       "rougeLsum  0.2909  0.3131  0.2722  0.2860  0.2185"
      ]
     },
     "execution_count": 10,
     "metadata": {},
     "output_type": "execute_result"
    }
   ],
   "source": [
    "%%time\n",
    "model_checkpoint = '../abstractive_summarizer/checkpoint_biobart/checkpoint-50625'\n",
    "TOKENIZER = AutoTokenizer.from_pretrained(model_checkpoint, model_max_length=1024)\n",
    "ABSTRMODEL = AutoModelForSeq2SeqLM.from_pretrained(model_checkpoint)\n",
    "ABSTRMODEL = ABSTRMODEL.to(device)\n",
    "main_abs(tokenizer=TOKENIZER, model=ABSTRMODEL)"
   ]
  },
  {
   "cell_type": "code",
   "execution_count": null,
   "id": "e83aef4f-2100-4135-8f50-924a1a5c314d",
   "metadata": {},
   "outputs": [],
   "source": []
  }
 ],
 "metadata": {
  "kernelspec": {
   "display_name": "python3_rapids",
   "language": "python",
   "name": "python3_rapids"
  },
  "language_info": {
   "codemirror_mode": {
    "name": "ipython",
    "version": 3
   },
   "file_extension": ".py",
   "mimetype": "text/x-python",
   "name": "python",
   "nbconvert_exporter": "python",
   "pygments_lexer": "ipython3",
   "version": "3.10.9"
  }
 },
 "nbformat": 4,
 "nbformat_minor": 5
}
