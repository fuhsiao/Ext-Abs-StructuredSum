{
 "cells": [
  {
   "cell_type": "code",
   "execution_count": 1,
   "id": "c6a3e576-e410-492f-a304-39e450a7419b",
   "metadata": {},
   "outputs": [],
   "source": [
    "import pickle\n",
    "import numpy as np\n",
    "import pandas as pd\n",
    "\n",
    "from cuml.ensemble import RandomForestClassifier\n",
    "# from xgboost import XGBClassifier\n",
    "# from lightgbm import LGBMClassifier\n",
    "from sklearn.metrics import classification_report, confusion_matrix\n",
    "from model_utils import get_dataset\n",
    "\n",
    "from sklearn.metrics import roc_curve, roc_auc_score\n",
    "import matplotlib.pyplot as plt"
   ]
  },
  {
   "cell_type": "code",
   "execution_count": 2,
   "id": "28440c6e-0cd7-4ac9-9e95-0ba572c49b47",
   "metadata": {},
   "outputs": [],
   "source": [
    "# 讀取模型\n",
    "def load_model(path):\n",
    "    return pickle.load(open(path, 'rb'))\n",
    "\n",
    "def roc(clf, x_test, y_test, plot_roc=False):\n",
    "    \n",
    "    if isinstance(clf, RandomForestClassifier):\n",
    "        y_pred_proba = np.array(clf.predict_proba(x_test))[:, 1]\n",
    "    else:\n",
    "        y_pred_proba = clf.predict_proba(x_test)[:, 1]\n",
    "    # 假设你有真实标签和预测概率\n",
    "    y_true = y_test.to_numpy()\n",
    "    y_scores = y_pred_proba\n",
    "\n",
    "    # 计算FPR和TPR\n",
    "    fpr, tpr, thresholds = roc_curve(y_true, y_scores)\n",
    "    \n",
    "    optimal_idx = np.argmax(tpr - fpr)\n",
    "    optimal_threshold = thresholds[optimal_idx]\n",
    "    print(f'optimal_threshold: {optimal_threshold}')\n",
    "\n",
    "    # 计算AUC值\n",
    "    auc = roc_auc_score(y_true, y_scores)\n",
    "    print(f'AUC: {auc}')\n",
    "    \n",
    "    if plot_roc:\n",
    "        # 绘制ROC曲线\n",
    "        plt.plot(fpr, tpr, label='ROC curve (AUC = %0.4f)' % auc)\n",
    "        plt.plot([0, 1], [0, 1], 'k--')  # 绘制对角线\n",
    "        plt.xlabel('False Positive Rate')\n",
    "        plt.ylabel('True Positive Rate')\n",
    "        plt.title('Receiver Operating Characteristic')\n",
    "        plt.legend(loc='lower right')\n",
    "        plt.show()\n",
    "        \n",
    "def get_models_roc(F_cos, with_S=False):\n",
    "    \n",
    "    cols_selected = ['F1','F2','F3','F4','F5','F6','F7',F_cos]\n",
    "    ws = ''\n",
    "    \n",
    "    if with_S and F_cos == 'F10':\n",
    "        cols_selected.insert(0, 'section')\n",
    "        ws = '_S'\n",
    "        \n",
    "    \n",
    "    x_train, y_train, x_test, y_test = get_dataset(train_set = train_path,\n",
    "                                               test_set = test_path,\n",
    "                                               cols = cols_selected, # input data (x)\n",
    "                                               tgt = 'label' # target label (y)\n",
    "                                               )\n",
    "    \n",
    "    for clf_type in ['RF', 'XGB', 'LGB']:\n",
    "        print(clf_type)\n",
    "        res = load_model(f'model/{clf_type}_model_{F_cos}{ws}.pkl')\n",
    "        roc(res, x_test, y_test)\n",
    "        print()"
   ]
  },
  {
   "cell_type": "code",
   "execution_count": 3,
   "id": "33fdfbec-f285-4285-bcaf-9af317bb4270",
   "metadata": {},
   "outputs": [],
   "source": [
    "train_path = '../../dataset/to_extractive/train.parquet'\n",
    "test_path = '../../dataset/to_extractive/test.parquet'"
   ]
  },
  {
   "cell_type": "code",
   "execution_count": 4,
   "id": "0b94521c-2360-47e9-9b18-11fc4050b79c",
   "metadata": {},
   "outputs": [],
   "source": [
    "x_train, y_train, x_test, y_test = get_dataset(train_set = train_path,\n",
    "                                               test_set = test_path,\n",
    "                                               cols = ['section','F1','F2','F3','F4','F5','F6','F7','F10'], # input data (x)\n",
    "                                               tgt = 'label' # target label (y)\n",
    "                                               )"
   ]
  },
  {
   "cell_type": "code",
   "execution_count": 5,
   "id": "73661bac-9c02-4f23-ba3c-e6feb7e0fc5b",
   "metadata": {},
   "outputs": [
    {
     "name": "stdout",
     "output_type": "stream",
     "text": [
      "optimal_threshold: 0.5105444268625421\n",
      "AUC: 0.7808466631304664\n"
     ]
    }
   ],
   "source": [
    "res = load_model('model/LGB_model_F10_S.pkl')\n",
    "roc(res, x_test, y_test)"
   ]
  },
  {
   "cell_type": "code",
   "execution_count": 6,
   "id": "a5291a8d-65dd-422c-97fe-410aad893877",
   "metadata": {},
   "outputs": [
    {
     "name": "stdout",
     "output_type": "stream",
     "text": [
      "RF\n",
      "optimal_threshold: 0.4933217465877533\n",
      "AUC: 0.7432594688991462\n",
      "\n",
      "XGB\n",
      "optimal_threshold: 0.4986463487148285\n",
      "AUC: 0.78036443099712\n",
      "\n",
      "LGB\n",
      "optimal_threshold: 0.5105444268625421\n",
      "AUC: 0.7808466631304664\n",
      "\n"
     ]
    }
   ],
   "source": [
    "get_models_roc('F10', with_S=True)"
   ]
  },
  {
   "cell_type": "code",
   "execution_count": 7,
   "id": "aba54e30-9ac7-42fa-a3c6-e8eb1ccc5f52",
   "metadata": {},
   "outputs": [
    {
     "name": "stdout",
     "output_type": "stream",
     "text": [
      "RF\n",
      "optimal_threshold: 0.4922090172767639\n",
      "AUC: 0.7327006171270529\n",
      "\n",
      "XGB\n",
      "optimal_threshold: 0.4916720688343048\n",
      "AUC: 0.7379643380406058\n",
      "\n",
      "LGB\n",
      "optimal_threshold: 0.5040252138163217\n",
      "AUC: 0.7381477437275191\n",
      "\n"
     ]
    }
   ],
   "source": [
    "get_models_roc('F8')"
   ]
  },
  {
   "cell_type": "code",
   "execution_count": 8,
   "id": "7a4fd4d8-0216-4917-b020-1d95b459e677",
   "metadata": {},
   "outputs": [
    {
     "name": "stdout",
     "output_type": "stream",
     "text": [
      "RF\n",
      "optimal_threshold: 0.49609261751174927\n",
      "AUC: 0.7364963030195983\n",
      "\n",
      "XGB\n",
      "optimal_threshold: 0.5143572688102722\n",
      "AUC: 0.7412624640871914\n",
      "\n",
      "LGB\n",
      "optimal_threshold: 0.5018649301113228\n",
      "AUC: 0.7415262350630945\n",
      "\n"
     ]
    }
   ],
   "source": [
    "get_models_roc('F9')"
   ]
  },
  {
   "cell_type": "code",
   "execution_count": 9,
   "id": "eee4705e-bc35-430a-9e73-b470aac81337",
   "metadata": {},
   "outputs": [
    {
     "name": "stdout",
     "output_type": "stream",
     "text": [
      "RF\n",
      "optimal_threshold: 0.4844803810119629\n",
      "AUC: 0.7373888208710646\n",
      "\n",
      "XGB\n",
      "optimal_threshold: 0.49048787355422974\n",
      "AUC: 0.742466243023354\n",
      "\n",
      "LGB\n",
      "optimal_threshold: 0.4970260154858402\n",
      "AUC: 0.742640951573551\n",
      "\n"
     ]
    }
   ],
   "source": [
    "get_models_roc('F10')"
   ]
  },
  {
   "cell_type": "code",
   "execution_count": null,
   "id": "bd46b94b-81c6-4994-a1c2-a31967ae453a",
   "metadata": {},
   "outputs": [],
   "source": []
  }
 ],
 "metadata": {
  "kernelspec": {
   "display_name": "python3_rapids",
   "language": "python",
   "name": "python3_rapids"
  },
  "language_info": {
   "codemirror_mode": {
    "name": "ipython",
    "version": 3
   },
   "file_extension": ".py",
   "mimetype": "text/x-python",
   "name": "python",
   "nbconvert_exporter": "python",
   "pygments_lexer": "ipython3",
   "version": "3.10.9"
  }
 },
 "nbformat": 4,
 "nbformat_minor": 5
}
