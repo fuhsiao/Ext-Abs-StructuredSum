{
 "cells": [
  {
   "cell_type": "code",
   "execution_count": 1,
   "id": "6fad3a8d-148e-4671-b971-1473466d12a8",
   "metadata": {},
   "outputs": [],
   "source": [
    "import pickle\n",
    "import numpy as np\n",
    "import pandas as pd\n",
    "\n",
    "from cuml.ensemble import RandomForestClassifier\n",
    "from xgboost import XGBClassifier\n",
    "from lightgbm import LGBMClassifier\n",
    "from sklearn.metrics import classification_report, confusion_matrix\n",
    "from model_utils import get_dataset, do_HPO, timed, plot_search_results"
   ]
  },
  {
   "cell_type": "markdown",
   "id": "b5095e6b-190f-4eb7-b50d-b6e52708fece",
   "metadata": {},
   "source": [
    "## Hyperparameter optimization of the model"
   ]
  },
  {
   "cell_type": "markdown",
   "id": "1257aadc-3c2a-4d83-8b7c-470aa756ae71",
   "metadata": {},
   "source": [
    "Defines three functions for fitting machine learning models: Random Forest, XGBoost and LightGBM.  \n",
    "\n",
    "Use the do_HPO() with the following parameters :\n",
    "+ model - classification model\n",
    "+ params - a specified set of hyperparameters\n",
    "+ mode - choose GridSearch or RandomSearch\n",
    "+ n_folds - number of subsets for cross-validation"
   ]
  },
  {
   "cell_type": "code",
   "execution_count": 2,
   "id": "ab0cbf03-cee1-4573-8ff4-5a253a500169",
   "metadata": {},
   "outputs": [],
   "source": [
    "# Random forest\n",
    "def fit_RF(x, y):\n",
    "    params = {\n",
    "        \"n_estimators\": [100],\n",
    "        \"max_depth\": [6]\n",
    "    }\n",
    "    model = RandomForestClassifier()\n",
    "    res, results = do_HPO(model, params, x, y, mode=MODE, n_folds=N_FOLDS)\n",
    "    return res, results\n",
    "\n",
    "# XGBoost\n",
    "def fit_XGB(x, y):\n",
    "    params = {\n",
    "        \"n_estimators\": [100],\n",
    "        \"max_depth\": [6],\n",
    "        \"learning_rate\": [0.1]\n",
    "    }\n",
    "    model = XGBClassifier(tree_method='gpu_hist')\n",
    "    res, results = do_HPO(model, params, x, y, mode=MODE, n_folds=N_FOLDS)\n",
    "    return res, results\n",
    "\n",
    "# LightGBM\n",
    "def fit_LGB(x, y):\n",
    "    params = {\n",
    "        \"n_estimators\": [100],\n",
    "        \"max_depth\": [6],\n",
    "        \"learning_rate\": [0.1],\n",
    "        \"num_leaves\": [80]\n",
    "    }\n",
    "    model = LGBMClassifier()\n",
    "    res, results = do_HPO(model, params, x, y, mode=MODE, n_folds=N_FOLDS)\n",
    "    return res, results"
   ]
  },
  {
   "cell_type": "code",
   "execution_count": 3,
   "id": "694097d5-8f09-4a23-8628-a4cc997921bc",
   "metadata": {},
   "outputs": [],
   "source": [
    "# 分類報告\n",
    "def get_report(actual, pred):\n",
    "    data = np.flip(confusion_matrix(actual, pred))\n",
    "    rep1 = pd.DataFrame(data, [\"Actual True\", \"Actual False\"], [\"Predicted  True\", \"Predicted  False\"])\n",
    "    rep2 = classification_report(actual, pred, digits=3)\n",
    "    print(rep1, '\\n'*3, rep2)\n",
    "\n",
    "# 儲存模型\n",
    "def save_model(model, path):\n",
    "    pickle.dump(model, open(path, \"wb\"))\n",
    "    \n",
    "# 讀取模型\n",
    "def load_model(path):\n",
    "    return pickle.load(open(path, 'rb'))"
   ]
  },
  {
   "cell_type": "markdown",
   "id": "a2107728-b0fa-4a2c-af09-90cc8cd5eefc",
   "metadata": {},
   "source": [
    "#### Define HPO default parameters"
   ]
  },
  {
   "cell_type": "code",
   "execution_count": 4,
   "id": "24cc4516-7b0d-4acf-a6d2-2f68b17d11c8",
   "metadata": {},
   "outputs": [],
   "source": [
    "MODE = 'gpu-grid'\n",
    "N_FOLDS = 10"
   ]
  },
  {
   "cell_type": "markdown",
   "id": "c6241013-816f-4b90-b57e-f7f48578f5e9",
   "metadata": {},
   "source": [
    "#### Loading the dataset"
   ]
  },
  {
   "cell_type": "code",
   "execution_count": 5,
   "id": "909d7db4-8d22-4573-ac03-7eea50f7860f",
   "metadata": {},
   "outputs": [],
   "source": [
    "train_path = '../../dataset/to_extractive/train.parquet'\n",
    "test_path = '../../dataset/to_extractive/test.parquet'\n",
    "\n",
    "x_train, y_train, x_test, y_test = get_dataset(train_set = train_path,\n",
    "                                               test_set = test_path,\n",
    "                                               cols = ['section','F1','F2','F3','F4','F5','F6','F7','F10'], # input data (x)\n",
    "                                               tgt = 'label' # target label (y)\n",
    "                                               )"
   ]
  },
  {
   "cell_type": "markdown",
   "id": "dc4bc13f-d41d-4658-baab-c11dc663445c",
   "metadata": {},
   "source": [
    "#### Model Training  \n",
    "Find the best hyperparameter by adjusting the model parameters of the function"
   ]
  },
  {
   "cell_type": "code",
   "execution_count": null,
   "id": "e37242c2-197f-4d6d-88e4-40a50cb21111",
   "metadata": {},
   "outputs": [],
   "source": [
    "with timed():\n",
    "    res, results = fit_LGB(x_train, y_train)"
   ]
  },
  {
   "cell_type": "code",
   "execution_count": null,
   "id": "bf943e15-bc36-40f9-a20a-e7980bd6a76a",
   "metadata": {},
   "outputs": [],
   "source": [
    "# res -> best model\n",
    "y_pred = res.predict(x_test)\n",
    "get_report(y_test, y_pred)"
   ]
  },
  {
   "cell_type": "code",
   "execution_count": null,
   "id": "ac44199d-305c-426e-90e6-f3760d38c5f6",
   "metadata": {},
   "outputs": [],
   "source": [
    "## Visualizing the Search\n",
    "## Plots by fixing all paramters except one parameter to its best value using matplotlib\n",
    "# plot_search_results(results)"
   ]
  },
  {
   "cell_type": "code",
   "execution_count": null,
   "id": "733865ff-5d40-43bb-b452-7ce0edc29b9a",
   "metadata": {},
   "outputs": [],
   "source": [
    "## Save Model\n",
    "# save_model(res, 'model/example.pkl')"
   ]
  },
  {
   "cell_type": "markdown",
   "id": "64bad3cd-ff95-4e76-9c8e-4a0e77d22d58",
   "metadata": {},
   "source": [
    "#### Additional"
   ]
  },
  {
   "cell_type": "code",
   "execution_count": null,
   "id": "dc362b8f-b18d-43ee-b729-f87d88daca85",
   "metadata": {},
   "outputs": [],
   "source": [
    "## Unused test code\n",
    "## ===================================================== Adjust True threshold \n",
    "# model = load_model('model/RF_model_F10.pkl')\n",
    "# y_pred = model.predict_proba(x_test)\n",
    "# y_pred=(y_pred.iloc[:,1] > 0.7).astype('int')\n",
    "# get_report(y_test, y_pred)\n",
    "## ===================================================== Cuml KNN, LR\n",
    "# from cuml.linear_model import LogisticRegression\n",
    "# from cuml.neighbors import KNeighborsClassifier\n",
    "# def fit_LR(x, y):\n",
    "#     params = {\n",
    "#         'penalty': ['l1','l2'],\n",
    "#         'C': [0.01, 0.1, 1, 10],\n",
    "#         'max_iter': [1000, 2000]\n",
    "#     }\n",
    "#     model = LogisticRegression(verbose=0) \n",
    "#     res, results = do_HPO(model, params, x, y, mode=MODE, n_folds=N_FOLDS)\n",
    "#     return res, results\n",
    "# def fit_KNN(x, y):\n",
    "#     params = {\n",
    "#         'n_neighbors':[10, 15, 20]\n",
    "#     }\n",
    "#     model = KNeighborsClassifier(verbose=0)\n",
    "#     res, results = do_HPO(model, params, x, y, mode=MODE, n_folds=N_FOLDS)\n",
    "#     return res, results"
   ]
  },
  {
   "cell_type": "code",
   "execution_count": null,
   "id": "afb20b1e-03cb-4d94-a586-9aaac1e426a5",
   "metadata": {},
   "outputs": [],
   "source": [
    "# SystemError: initialization of _internal failed without raising an exception\n",
    "# =============================================================================\n",
    "# Try installing the following version\n",
    "# pip install numpy==1.23.5"
   ]
  }
 ],
 "metadata": {
  "kernelspec": {
   "display_name": "python3_rapids",
   "language": "python",
   "name": "python3_rapids"
  },
  "language_info": {
   "codemirror_mode": {
    "name": "ipython",
    "version": 3
   },
   "file_extension": ".py",
   "mimetype": "text/x-python",
   "name": "python",
   "nbconvert_exporter": "python",
   "pygments_lexer": "ipython3",
   "version": "3.10.9"
  }
 },
 "nbformat": 4,
 "nbformat_minor": 5
}
